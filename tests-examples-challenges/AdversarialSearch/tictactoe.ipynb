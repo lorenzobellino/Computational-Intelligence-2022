{
 "cells": [
  {
   "cell_type": "code",
   "execution_count": 1,
   "metadata": {},
   "outputs": [],
   "source": [
    "from itertools import permutations\n",
    "import logging\n",
    "import random"
   ]
  },
  {
   "cell_type": "code",
   "execution_count": 2,
   "metadata": {},
   "outputs": [],
   "source": [
    "logging.basicConfig(level = logging.INFO)\n",
    "winning_states = [[0, 1, 2], [3, 4, 5], [6, 7, 8], [0, 3, 6], [1, 4, 7], [2, 5, 8], [0, 4, 8], [2, 4, 6], [0, 4, 8]]"
   ]
  },
  {
   "cell_type": "code",
   "execution_count": 3,
   "metadata": {},
   "outputs": [],
   "source": [
    "def won(state):\n",
    "    return any(list(p) in winning_states for p in permutations(state, 3))"
   ]
  },
  {
   "cell_type": "code",
   "execution_count": 4,
   "metadata": {},
   "outputs": [],
   "source": [
    "def eval_terminal(x, o):\n",
    "    if won(x):\n",
    "        return 1\n",
    "    elif won(o):\n",
    "        return -1\n",
    "    else:\n",
    "        return 0"
   ]
  },
  {
   "cell_type": "code",
   "execution_count": 5,
   "metadata": {},
   "outputs": [],
   "source": [
    "def minmax(board):\n",
    "    val = eval_terminal(*board)\n",
    "    possible = list(set(range(9)) - set(board[0]) - set(board[1]))\n",
    "    if val != 0 or not possible:\n",
    "        return None, val\n",
    "    evaluation = list()\n",
    "    for ply in possible:\n",
    "        _, val = minmax((board[1], board[0] | {ply}))\n",
    "        evaluation.append((ply, -val))\n",
    "    return max(evaluation, key=lambda x: x[1])"
   ]
  },
  {
   "cell_type": "code",
   "execution_count": 6,
   "metadata": {},
   "outputs": [],
   "source": [
    "def end_game(board):\n",
    "    if eval_terminal(*board) != 0:\n",
    "        return True\n",
    "    if len(board[0]) + len(board[1]) == 9:\n",
    "        return True"
   ]
  },
  {
   "cell_type": "code",
   "execution_count": null,
   "metadata": {},
   "outputs": [],
   "source": [
    "def draw_board(drawing):\n",
    "    logging.info(\n",
    "        f\"game-board:\\n{' | '.join(drawing[0])}\\n----------\\n{' | '.join(drawing[1])}\\n----------\\n{' | '.join(drawing[2])}\"\n",
    "    )"
   ]
  },
  {
   "cell_type": "code",
   "execution_count": null,
   "metadata": {},
   "outputs": [],
   "source": [
    "def choose_move(board):\n",
    "    move = int(input(\"your move: \"))\n",
    "    while {move} & board[1] or {move} & board[0] or move > 8 or move < 0:\n",
    "        logging.info(f\"invalid move\")\n",
    "        move = int(input(\"your move: \"))\n",
    "    return move"
   ]
  },
  {
   "cell_type": "code",
   "execution_count": null,
   "metadata": {},
   "outputs": [],
   "source": [
    "def terminate(board,drawing):\n",
    "    logging.info(f\"final board\")\n",
    "    logging.info(f\"X: {board[0]}\")\n",
    "    logging.info(f\"O: {board[1]}\")\n",
    "    draw_board(drawing=drawing)\n",
    "    w = eval_terminal(*board)\n",
    "    if w == 0:\n",
    "        logging.info(f\"winner: game tied\")\n",
    "    elif w == 1:\n",
    "        logging.info(f\"winner: X\")\n",
    "    else:\n",
    "        logging.info(f\"winner: O\")"
   ]
  },
  {
   "cell_type": "code",
   "execution_count": 7,
   "metadata": {},
   "outputs": [
    {
     "name": "stderr",
     "output_type": "stream",
     "text": [
      "INFO:root:board: (set(), {0})\n",
      "INFO:root:my move: 4\n",
      "INFO:root:board: ({4}, {0})\n",
      "INFO:root:board: ({4}, {0, 8})\n",
      "INFO:root:my move: 1\n",
      "INFO:root:board: ({1, 4}, {0, 8})\n",
      "INFO:root:board: ({1, 4}, {0, 8, 6})\n",
      "INFO:root:final board\n",
      "INFO:root:X: {1, 4, 7}\n",
      "INFO:root:O: {0, 8, 6}\n",
      "INFO:root:game-board:\n",
      "O | X | .\n",
      "----------\n",
      ". | X | .\n",
      "----------\n",
      "O | X | O\n",
      "INFO:root:winner: X\n"
     ]
    }
   ],
   "source": [
    "drawing = [[\".\", \".\", \".\"], [\".\", \".\", \".\"], [\".\", \".\", \".\"]]\n",
    "board = (set(), set())\n",
    "if random.random() < 0.5:\n",
    "    move = choose_move(board)\n",
    "    board = (board[0], board[1] | {move})\n",
    "    drawing[move // 3][move % 3] = \"O\"\n",
    "else:\n",
    "    logging.info(f\"computer starts\")\n",
    "while not end_game(board):\n",
    "    logging.info(f\"board: {board}\")\n",
    "    move, val = minmax(board)\n",
    "    board = (board[0] | {move}, board[1])\n",
    "    drawing[move // 3][move % 3] = \"X\"\n",
    "    if not end_game(board):\n",
    "        logging.info(f\"my move: {move}\")\n",
    "        logging.info(f\"board: {board}\")\n",
    "        move = choose_move(board)\n",
    "        board = (board[0], board[1] | {move})\n",
    "        drawing[move // 3][move % 3] = \"O\"\n",
    "\n",
    "terminate(board,drawing)"
   ]
  }
 ],
 "metadata": {
  "kernelspec": {
   "display_name": "Python 3.10.2 64-bit",
   "language": "python",
   "name": "python3"
  },
  "language_info": {
   "codemirror_mode": {
    "name": "ipython",
    "version": 3
   },
   "file_extension": ".py",
   "mimetype": "text/x-python",
   "name": "python",
   "nbconvert_exporter": "python",
   "pygments_lexer": "ipython3",
   "version": "3.10.2"
  },
  "orig_nbformat": 4,
  "vscode": {
   "interpreter": {
    "hash": "21bf4481fead6f60d6dbee3218b90742b8e3c7838b483ea02dee6a4f8ad80888"
   }
  }
 },
 "nbformat": 4,
 "nbformat_minor": 2
}
