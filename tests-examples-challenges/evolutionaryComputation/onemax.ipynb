{
 "cells": [
  {
   "cell_type": "code",
   "execution_count": 2,
   "metadata": {},
   "outputs": [],
   "source": [
    "import random"
   ]
  },
  {
   "cell_type": "code",
   "execution_count": 3,
   "metadata": {},
   "outputs": [],
   "source": [
    "POPULATION_SIZE = 30\n",
    "OFFSPRING_SIZE = 20\n",
    "PROBLEM_SIZE = 10"
   ]
  },
  {
   "cell_type": "code",
   "execution_count": 18,
   "metadata": {},
   "outputs": [],
   "source": [
    "def onemax(genome):\n",
    "    return sum(genome)\n",
    "\n",
    "def select_parent(population, tournament_size=2):\n",
    "    return max(random.choices(population,k=tournament_size), key = lambda i : i[1])\n",
    "\n",
    "def crossover(parent1, parent2):\n",
    "    g1,g2 = parent1[0], parent2[0]\n",
    "    cut = random.randint(0,PROBLEM_SIZE)\n",
    "    return g1[:cut] + g2[cut:]\n",
    "\n",
    "def mutation(genome):\n",
    "    point = random.randint(0,PROBLEM_SIZE-1)\n",
    "    return genome[:point] + (1-genome[point]) + genome[point+1:]"
   ]
  },
  {
   "cell_type": "code",
   "execution_count": 16,
   "metadata": {},
   "outputs": [],
   "source": [
    "population = list()\n",
    "for genome in [tuple([random.choice([1,0]) for _ in range(PROBLEM_SIZE)]) for _ in range(POPULATION_SIZE)]:\n",
    "    population.append((genome,onemax(genome)))"
   ]
  },
  {
   "cell_type": "code",
   "execution_count": 19,
   "metadata": {},
   "outputs": [
    {
     "ename": "TypeError",
     "evalue": "can only concatenate tuple (not \"int\") to tuple",
     "output_type": "error",
     "traceback": [
      "\u001b[1;31m---------------------------------------------------------------------------\u001b[0m",
      "\u001b[1;31mTypeError\u001b[0m                                 Traceback (most recent call last)",
      "Cell \u001b[1;32mIn [19], line 4\u001b[0m\n\u001b[0;32m      2\u001b[0m \u001b[39mif\u001b[39;00m random\u001b[39m.\u001b[39mrandom() \u001b[39m<\u001b[39m \u001b[39m.2\u001b[39m:\n\u001b[0;32m      3\u001b[0m     parent \u001b[39m=\u001b[39m select_parent(population)\n\u001b[1;32m----> 4\u001b[0m     offspring \u001b[39m=\u001b[39m mutation(parent[\u001b[39m0\u001b[39m])\n\u001b[0;32m      5\u001b[0m \u001b[39melse\u001b[39;00m:\n\u001b[0;32m      6\u001b[0m     o1 \u001b[39m=\u001b[39m select_parent(population)\n",
      "Cell \u001b[1;32mIn [18], line 14\u001b[0m, in \u001b[0;36mmutation\u001b[1;34m(genome)\u001b[0m\n\u001b[0;32m     12\u001b[0m \u001b[39mdef\u001b[39;00m \u001b[39mmutation\u001b[39m(genome):\n\u001b[0;32m     13\u001b[0m     point \u001b[39m=\u001b[39m random\u001b[39m.\u001b[39mrandint(\u001b[39m0\u001b[39m,PROBLEM_SIZE\u001b[39m-\u001b[39m\u001b[39m1\u001b[39m)\n\u001b[1;32m---> 14\u001b[0m     \u001b[39mreturn\u001b[39;00m genome[:point] \u001b[39m+\u001b[39;49m (\u001b[39m1\u001b[39;49m\u001b[39m-\u001b[39;49mgenome[point]) \u001b[39m+\u001b[39m genome[point\u001b[39m+\u001b[39m\u001b[39m1\u001b[39m:]\n",
      "\u001b[1;31mTypeError\u001b[0m: can only concatenate tuple (not \"int\") to tuple"
     ]
    }
   ],
   "source": [
    "for i in range(OFFSPRING_SIZE):\n",
    "    if random.random() < .2:\n",
    "        parent = select_parent(population)\n",
    "        offspring = mutation(parent[0])\n",
    "    else:\n",
    "        o1 = select_parent(population)\n",
    "        o2 = select_parent(population)\n",
    "        o = crossover(o1,o2)\n",
    "    population.append((o,onemax(o)))"
   ]
  },
  {
   "cell_type": "code",
   "execution_count": 12,
   "metadata": {},
   "outputs": [],
   "source": [
    "population = sorted(population, key=lambda i : i[1], reverse=True)[:POPULATION_SIZE]\n"
   ]
  }
 ],
 "metadata": {
  "kernelspec": {
   "display_name": "Python 3.10.2 64-bit",
   "language": "python",
   "name": "python3"
  },
  "language_info": {
   "codemirror_mode": {
    "name": "ipython",
    "version": 3
   },
   "file_extension": ".py",
   "mimetype": "text/x-python",
   "name": "python",
   "nbconvert_exporter": "python",
   "pygments_lexer": "ipython3",
   "version": "3.10.2"
  },
  "orig_nbformat": 4,
  "vscode": {
   "interpreter": {
    "hash": "21bf4481fead6f60d6dbee3218b90742b8e3c7838b483ea02dee6a4f8ad80888"
   }
  }
 },
 "nbformat": 4,
 "nbformat_minor": 2
}
