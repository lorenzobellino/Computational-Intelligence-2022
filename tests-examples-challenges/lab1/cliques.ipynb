{
 "cells": [
  {
   "cell_type": "code",
   "execution_count": 1,
   "metadata": {},
   "outputs": [],
   "source": [
    "from pydoc import cli\n",
    "import random\n",
    "from itertools import groupby,permutations,combinations\n",
    "import logging\n",
    "from types import NoneType\n",
    "import networkx as nx"
   ]
  },
  {
   "cell_type": "code",
   "execution_count": 2,
   "metadata": {},
   "outputs": [],
   "source": [
    "logging.basicConfig(level=logging.INFO)"
   ]
  },
  {
   "cell_type": "code",
   "execution_count": 3,
   "metadata": {},
   "outputs": [],
   "source": [
    "def problem(N, seed=None):\n",
    "    random.seed(seed)\n",
    "    return [list(set(random.randint(0,N-1) for n in range(random.randint(N // 5, N // 2)))) for n in range(random.randint(N,N*5))]"
   ]
  },
  {
   "cell_type": "code",
   "execution_count": 4,
   "metadata": {},
   "outputs": [],
   "source": [
    "def k_cliques(graph):\n",
    "    # 2-cliques\n",
    "    cliques = [{i, j} for i, j in graph.edges() if i != j]\n",
    "    k = 2\n",
    "\n",
    "    while cliques:\n",
    "        # result\n",
    "        yield k, cliques\n",
    "\n",
    "        # merge k-cliques into (k+1)-cliques\n",
    "        cliques_1 = set()\n",
    "        for u, v in combinations(cliques, 2):\n",
    "            w = u ^ v\n",
    "            if len(w) == 2 and graph.has_edge(*w):\n",
    "                cliques_1.add(tuple(u | w))\n",
    "\n",
    "        # remove duplicates\n",
    "        cliques = list(map(set, cliques_1))\n",
    "        k += 1"
   ]
  },
  {
   "cell_type": "code",
   "execution_count": 5,
   "metadata": {},
   "outputs": [],
   "source": [
    "def cliques(graph):\n",
    "    # logging.debug(f\"cliques for size {size_k}\")\n",
    "    clq = {}\n",
    "    for k, cliques in k_cliques(graph):\n",
    "        # if k == size_k:\n",
    "        #     # print('%d-cliques = %d, %s.' % (k, len(cliques), cliques))\n",
    "        #     return cliques\n",
    "        logging.debug(f\"cliques of size {k}: {cliques}\")\n",
    "        clq[k]=cliques\n",
    "    return clq"
   ]
  },
  {
   "cell_type": "code",
   "execution_count": 6,
   "metadata": {},
   "outputs": [],
   "source": [
    "K = 5\n",
    "sets = problem(K, 42)\n",
    "sets = [list(s) for s in sets]\n",
    "sets.sort()\n",
    "sets = list(k for k,_ in groupby(sets))\n",
    "sets_dict = {i: set(s) for i, s in enumerate(sets)}\n",
    "graph = nx.Graph()\n",
    "graph.add_nodes_from(range(len(sets)))\n",
    "\n",
    "for z in permutations(sets_dict.items(), 2):\n",
    "    if(len(z[0][1].intersection(z[1][1])) <= 2):\n",
    "        graph.add_edge(z[0][0],z[1][0])\n",
    "        graph.add_edge(z[1][0],z[0][0])"
   ]
  },
  {
   "cell_type": "code",
   "execution_count": 9,
   "metadata": {},
   "outputs": [
    {
     "name": "stderr",
     "output_type": "stream",
     "text": [
      "INFO:root:k : 2\n",
      "INFO:root:k : 3\n",
      "INFO:root:k : 4\n",
      "INFO:root:k : 5\n",
      "INFO:root:new best weight : 9\n",
      "INFO:root:local best len: 9 \n",
      "res : [{0, 1}, {0, 2}, {1}, {2, 3}, {2, 4}]\n",
      "INFO:root:k : 6\n",
      "INFO:root:k : 7\n",
      "INFO:root:k : 8\n",
      "INFO:root:k : 9\n",
      "INFO:root:k : 10\n"
     ]
    }
   ],
   "source": [
    "found = False\n",
    "c = 1\n",
    "best_w = K*K\n",
    "# while not found and c < K:\n",
    "    # c+=1\n",
    "# while not found: \n",
    "partial_res = cliques(graph)\n",
    "# logging.info(f\"partial result: {partial_res}\")\n",
    "# if partial_res is not None:\n",
    "#     logging.debug(f\"for c = {c} found {len(partial_res)} cliques\")\n",
    "#     logging.debug(f\"results : {partial_res}\")\n",
    "# else:\n",
    "#         logging.debug(f\"for c = {c} found 0 cliques\")\n",
    "#         logging.debug(f\"results : {partial_res}\")\n",
    "if partial_res is not None:\n",
    "    for c in partial_res.values():\n",
    "        res_set = set()\n",
    "        res_list = list()\n",
    "        logging.info(f\"k : {len(c[0])}\")\n",
    "        for s in c:\n",
    "            if(len(c[0])==3):\n",
    "                logging.info(f\"set : {s}\")\n",
    "            # logging.debug(f\"{sets_dict[s]}\")\n",
    "            # logging.info(f\"s : {s}\")\n",
    "            # res_set = res_set.union(sets_dict[s])\n",
    "            # res_list.append(sets_dict[s])\n",
    "        # logging.info(f\"res_set {res_set}\")\n",
    "        # logging.debug(f\"{res_list}\")\n",
    "        # logging.debug(f\"{sum(len(x) for x in res_list)}\")\n",
    "        # if(len(res_set) == K and (sum(len(x) for x in res_list)) == K):\n",
    "            for i in s:\n",
    "                if(len(c[0])==3):\n",
    "                    logging.info(f\"i : {i}\")\n",
    "                res_set = res_set.union(sets_dict[i])\n",
    "                res_list.append(sets_dict[i])\n",
    "                # logging.info(f\"res_set {res_set}\")\n",
    "                # logging.info(f\"{res_list}\")\n",
    "                # logging.info(f\"{sum(len(x) for x in res_list)}\")\n",
    "                # logging.info(f\"{(sum(len(x) for x in res_list))}\")\n",
    "                # if(len(res_set) == K):\n",
    "                #     logging.info(f\"correct length {len(res_set)}\")\n",
    "                #     logging.info(f\"len res list : {sum(len(x) for x in res_list)}\")\n",
    "                \n",
    "                # logging.info(f\"res_list {res_list}\")\n",
    "                # logging.info(f\"len res_list {len(res_list)}\")\n",
    "                # input()\n",
    "                coverage = len(res_set)\n",
    "                weight = sum(len(x) for x in res_list)\n",
    "                # logging.info(f\"coverage : {coverage} -> weight : {weight}\")\n",
    "                if(coverage == K):\n",
    "                    # logging.info(f\"weight : {weight} : best_w : {best_w}\")\n",
    "                    if(weight < best_w):\n",
    "                        best_w = weight\n",
    "                        logging.info(f\"new best weight : {best_w}\")\n",
    "                        logging.info(f\"local best len: {sum(len(x) for x in res_list)} \\nres : {res_list}\")\n",
    "                        if(best_w == K):\n",
    "                            found = True\n",
    "                            logging.info(f\"new best weight : {best_w}\")\n",
    "                            logging.info(f\"global best len: {sum(len(x) for x in res_list)} \\nres : {res_list}\")\n",
    "                            break\n",
    "                # if(coverage == K and weight < best_w):\n",
    "                #     logging.info(f\"global best len: {sum(len(x) for x in res_list)} \\nres : {res_list}\")\n",
    "                #     best_w = sum(len(x) for x in res_list)\n",
    "                #     if best_w == K:\n",
    "                #         found = True\n",
    "                #         break\n",
    "            #found = True\n",
    "            #break\n",
    "\n",
    "# logging.info(f\"c : {c}\")"
   ]
  }
 ],
 "metadata": {
  "kernelspec": {
   "display_name": "Python 3.10.2 64-bit",
   "language": "python",
   "name": "python3"
  },
  "language_info": {
   "codemirror_mode": {
    "name": "ipython",
    "version": 3
   },
   "file_extension": ".py",
   "mimetype": "text/x-python",
   "name": "python",
   "nbconvert_exporter": "python",
   "pygments_lexer": "ipython3",
   "version": "3.10.2"
  },
  "orig_nbformat": 4,
  "vscode": {
   "interpreter": {
    "hash": "21bf4481fead6f60d6dbee3218b90742b8e3c7838b483ea02dee6a4f8ad80888"
   }
  }
 },
 "nbformat": 4,
 "nbformat_minor": 2
}
