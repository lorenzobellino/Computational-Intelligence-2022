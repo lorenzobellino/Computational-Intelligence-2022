{
 "cells": [
  {
   "cell_type": "code",
   "execution_count": 2,
   "metadata": {},
   "outputs": [],
   "source": [
    "from pydoc import cli\n",
    "import random\n",
    "from itertools import groupby,permutations,combinations\n",
    "import logging\n",
    "from types import NoneType\n",
    "import networkx as nx"
   ]
  },
  {
   "cell_type": "code",
   "execution_count": 3,
   "metadata": {},
   "outputs": [],
   "source": [
    "logging.basicConfig(level=logging.DEBUG)"
   ]
  },
  {
   "cell_type": "code",
   "execution_count": 4,
   "metadata": {},
   "outputs": [],
   "source": [
    "def problem(N, seed=None):\n",
    "    random.seed(seed)\n",
    "    return [list(set(random.randint(0,N-1) for n in range(random.randint(N // 5, N // 2)))) for n in range(random.randint(N,N*5))]"
   ]
  },
  {
   "cell_type": "code",
   "execution_count": 5,
   "metadata": {},
   "outputs": [],
   "source": [
    "def k_cliques(graph):\n",
    "    # 2-cliques\n",
    "    cliques = [{i, j} for i, j in graph.edges() if i != j]\n",
    "    k = 2\n",
    "\n",
    "    while cliques:\n",
    "        # result\n",
    "        yield k, cliques\n",
    "\n",
    "        # merge k-cliques into (k+1)-cliques\n",
    "        cliques_1 = set()\n",
    "        for u, v in combinations(cliques, 2):\n",
    "            w = u ^ v\n",
    "            if len(w) == 2 and graph.has_edge(*w):\n",
    "                cliques_1.add(tuple(u | w))\n",
    "\n",
    "        # remove duplicates\n",
    "        cliques = list(map(set, cliques_1))\n",
    "        k += 1"
   ]
  },
  {
   "cell_type": "code",
   "execution_count": 6,
   "metadata": {},
   "outputs": [],
   "source": [
    "def cliques(graph):\n",
    "    # logging.debug(f\"cliques for size {size_k}\")\n",
    "    clq = {}\n",
    "    for k, cliques in k_cliques(graph):\n",
    "        # if k == size_k:\n",
    "        #     # print('%d-cliques = %d, %s.' % (k, len(cliques), cliques))\n",
    "        #     return cliques\n",
    "        # logging.debug(f\"cliques of size {k}: {cliques}\")\n",
    "        clq[k]=cliques\n",
    "    return clq"
   ]
  },
  {
   "cell_type": "code",
   "execution_count": 7,
   "metadata": {},
   "outputs": [],
   "source": [
    "K = 5\n",
    "sets = problem(K, 42)\n",
    "sets = [list(s) for s in sets]\n",
    "sets.sort()\n",
    "sets = list(k for k,_ in groupby(sets))\n",
    "sets_dict = {i: set(s) for i, s in enumerate(sets)}\n",
    "graph = nx.Graph()\n",
    "graph.add_nodes_from(range(len(sets)))\n",
    "\n",
    "for z in permutations(sets_dict.items(), 2):\n",
    "    if(len(z[0][1].intersection(z[1][1])) <= 2):\n",
    "        graph.add_edge(z[0][0],z[1][0])\n",
    "        graph.add_edge(z[1][0],z[0][0])\n",
    "\n",
    "logging.info(f\"sets_dict: {sets_dict}\")"
   ]
  },
  {
   "cell_type": "code",
   "execution_count": 8,
   "metadata": {},
   "outputs": [
    {
     "name": "stderr",
     "output_type": "stream",
     "text": [
      "INFO:root:k : 2\n"
     ]
    },
    {
     "ename": "TypeError",
     "evalue": "unsupported format string passed to list.__format__",
     "output_type": "error",
     "traceback": [
      "\u001b[1;31m---------------------------------------------------------------------------\u001b[0m",
      "\u001b[1;31mTypeError\u001b[0m                                 Traceback (most recent call last)",
      "Cell \u001b[1;32mIn [8], line 13\u001b[0m\n\u001b[0;32m     11\u001b[0m res_list \u001b[39m=\u001b[39m \u001b[39mlist\u001b[39m()\n\u001b[0;32m     12\u001b[0m logging\u001b[39m.\u001b[39minfo(\u001b[39mf\u001b[39m\u001b[39m\"\u001b[39m\u001b[39mk : \u001b[39m\u001b[39m{\u001b[39;00mk\u001b[39m}\u001b[39;00m\u001b[39m\"\u001b[39m)\n\u001b[1;32m---> 13\u001b[0m logging\u001b[39m.\u001b[39minfo(\u001b[39mf\u001b[39m\u001b[39m\"\u001b[39m\u001b[39mc : \u001b[39m\u001b[39m{\u001b[39;00mc\u001b[39m:\u001b[39;00m\u001b[39m,\u001b[39m\u001b[39m}\u001b[39;00m\u001b[39m\"\u001b[39m)\n\u001b[0;32m     14\u001b[0m \u001b[39mfor\u001b[39;00m s \u001b[39min\u001b[39;00m c:\n\u001b[0;32m     15\u001b[0m     \u001b[39mfor\u001b[39;00m i \u001b[39min\u001b[39;00m s:\n",
      "\u001b[1;31mTypeError\u001b[0m: unsupported format string passed to list.__format__"
     ]
    }
   ],
   "source": [
    "found = False\n",
    "c = 1\n",
    "best_w = K*K\n",
    "\n",
    "partial_res = cliques(graph)\n",
    "\n",
    "if partial_res is not None and not found:\n",
    "    # logging.debug(f\"partial_res: {partial_res.items()}\")\n",
    "    for k,c in partial_res.items():\n",
    "        res_set = set()\n",
    "        res_list = list()\n",
    "        logging.info(f\"k : {k}\")\n",
    "        logging.info(f\"c : {c}\")\n",
    "        for s in c:\n",
    "            for i in s:\n",
    "                res_set = res_set.union(sets_dict[i])\n",
    "                res_list.append(sets_dict[i])\n",
    "            logging.debug(f\"res_set: {res_set}\")\n",
    "            logging.debug(f\"res_list: {res_list}\")\n",
    "            coverage = len(res_set)\n",
    "            weight = sum(len(x) for x in res_list)\n",
    "            if(coverage == K):\n",
    "                if(weight < best_w):\n",
    "                    best_w = weight\n",
    "                    logging.info(f\"new best weight : {best_w}\")\n",
    "                    logging.info(f\"local best len: {sum(len(x) for x in res_list)} \\nres : {res_list}\")\n",
    "                    if(best_w == K):\n",
    "                        found = True\n",
    "                        logging.info(f\"new best weight : {best_w}\")\n",
    "                        logging.info(f\"global best len: {sum(len(x) for x in res_list)} \\nres : {res_list}\")\n",
    "                        break"
   ]
  }
 ],
 "metadata": {
  "kernelspec": {
   "display_name": "Python 3.10.2 64-bit",
   "language": "python",
   "name": "python3"
  },
  "language_info": {
   "codemirror_mode": {
    "name": "ipython",
    "version": 3
   },
   "file_extension": ".py",
   "mimetype": "text/x-python",
   "name": "python",
   "nbconvert_exporter": "python",
   "pygments_lexer": "ipython3",
   "version": "3.10.2"
  },
  "orig_nbformat": 4,
  "vscode": {
   "interpreter": {
    "hash": "21bf4481fead6f60d6dbee3218b90742b8e3c7838b483ea02dee6a4f8ad80888"
   }
  }
 },
 "nbformat": 4,
 "nbformat_minor": 2
}
