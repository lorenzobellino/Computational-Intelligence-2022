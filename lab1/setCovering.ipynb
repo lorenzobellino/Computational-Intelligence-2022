{
    "cells": [{
        "cell_type":
            "code",
        "execution_count":
            1,
        "metadata": {},
        "outputs": [],
        "source": [
            "import random\n", "from queue import PriorityQueue\n", "import logging\n",
            "from time import perf_counter_ns\n", "from math import ceil"
        ]
    }, {
        "cell_type": "code",
        "execution_count": 2,
        "metadata": {},
        "outputs": [],
        "source": ["\n", "SEED = 42\n", "\n", "logging.basicConfig(format=\"%(message)s\", level=logging.INFO)"]
    }, {
        "cell_type":
            "code",
        "execution_count":
            3,
        "metadata": {},
        "outputs": [],
        "source": [
            "class PrioritizedSet:\n", "    def __init__(self, priority: int, s: set):\n",
            "        self.priority = 100 - priority\n", "        self.item = s\n", "\n",
            "    def __lt__(self, other):\n", "        return self.priority < other.priority\n", "    \n",
            "    def __eq__(self, other):\n", "        return self.priority == other.priority\n", "    \n",
            "    def __gt__(self, other):\n", "        return self.priority > other.priority"
        ]
    }, {
        "cell_type":
            "code",
        "execution_count":
            4,
        "metadata": {},
        "outputs": [],
        "source": [
            "def problem(N, seed=None):\n", "    random.seed(seed)\n",
            "    return [list(set(random.randint(0,N-1) for n in range(random.randint(N // 5, N // 2)))) for n in range(random.randint(N,N*5))]"
        ]
    }, {
        "cell_type":
            "code",
        "execution_count":
            5,
        "metadata": {},
        "outputs": [],
        "source": [
            "def calculate_weight(r,g,s = set(),threshold=1):\n",
            "    w = ceil(100*sum(x in g-r for x in s) / len(s))\n", "    return 100 if w>=threshold*100 else w"
        ]
    }, {
        "cell_type":
            "code",
        "execution_count":
            6,
        "metadata": {},
        "outputs": [],
        "source": [
            "def search(sets,goal,N,threshold=1):\n", "    discovered_state = 0\n", "    options = PriorityQueue()\n",
            "    unused = PriorityQueue()\n", "    for ps in sets:\n",
            "        options.put(PrioritizedSet(int(100*len(ps)/N),ps))\n", "    result = [options.get().item]\n",
            "    result_set = set().union(result[0])\n", "    while result is not None and not result_set == goal:\n",
            "        while not options.empty():\n", "            discovered_state += 1\n",
            "            s = options.get().item\n",
            "            coverage = calculate_weight(result_set,goal,s,threshold)\n",
            "            if coverage == 100:\n", "                result.append(s)\n",
            "                result_set = result_set.union(s)\n", "                while not unused.empty():\n",
            "                    options.put(unused.get())\n", "                break\n",
            "            elif coverage != 0:\n", "                unused.put(PrioritizedSet(coverage,s))\n",
            "        else:\n", "            if unused.empty():\n", "                result = None\n",
            "                break\n", "            else:\n", "                local_best = unused.get().item\n",
            "                result.append(local_best)\n",
            "                result_set = result_set.union(local_best)\n",
            "                while not unused.empty():\n", "                    options.put(unused.get())\n",
            "    logging.info(f\"explored state: {discovered_state}\")\n", "    return result"
        ]
    }, {
        "cell_type":
            "code",
        "execution_count":
            7,
        "metadata": {},
        "outputs": [],
        "source": [
            "for n in [5,10,20,50,100,500,1000]:\n", "    sets = problem(n,SEED)\n",
            "    goal = set(_ for _ in range(n))\n", "    logging.info(f\"N = {n}\")\n",
            "    start_time_ns = perf_counter_ns()\n", "    result = search(sets, goal,n,threshold=0.5)\n",
            "    end_time_ns = perf_counter_ns()\n", "    logging.info(f\"Time: {end_time_ns-start_time_ns} ns\")\n",
            "    if result == None:\n", "        logging.info(\"No solution found\")\n", "    else:\n",
            "        logging.info(f\"the weight of the solution is: {sum(len(s) for s in result)}\")"
        ]
    }],
    "metadata": {
        "kernelspec": {
            "display_name": "Python 3.10.2 64-bit",
            "language": "python",
            "name": "python3"
        },
        "language_info": {
            "codemirror_mode": {
                "name": "ipython",
                "version": 3
            },
            "file_extension": ".py",
            "mimetype": "text/x-python",
            "name": "python",
            "nbconvert_exporter": "python",
            "pygments_lexer": "ipython3",
            "version": "3.10.2"
        },
        "orig_nbformat": 4,
        "vscode": {
            "interpreter": {
                "hash": "21bf4481fead6f60d6dbee3218b90742b8e3c7838b483ea02dee6a4f8ad80888"
            }
        }
    },
    "nbformat": 4,
    "nbformat_minor": 2
}
